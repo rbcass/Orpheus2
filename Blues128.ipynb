{
  "cells": [
    {
      "cell_type": "markdown",
      "metadata": {
        "id": "view-in-github",
        "colab_type": "text"
      },
      "source": [
        "<a href=\"https://colab.research.google.com/github/rbcass/Orpheus2/blob/master/Blues128.ipynb\" target=\"_parent\"><img src=\"https://colab.research.google.com/assets/colab-badge.svg\" alt=\"Open In Colab\"/></a>"
      ]
    },
    {
      "cell_type": "markdown",
      "metadata": {
        "id": "nnytcnkORl3i"
      },
      "source": [
        "Loading files & Analysis"
      ]
    },
    {
      "cell_type": "markdown",
      "metadata": {
        "id": "XoK98JDqd_ny"
      },
      "source": [
        "# File sorting"
      ]
    },
    {
      "cell_type": "code",
      "execution_count": null,
      "metadata": {
        "colab": {
          "base_uri": "https://localhost:8080/"
        },
        "id": "fX3gbOcFQQCs",
        "outputId": "8d2d6e38-1eaf-4cc4-d704-cf98082a5a65"
      },
      "outputs": [
        {
          "output_type": "stream",
          "name": "stdout",
          "text": [
            "Collecting fluidsynth\n",
            "  Downloading fluidsynth-0.2.tar.gz (3.7 kB)\n",
            "  Preparing metadata (setup.py) ... \u001b[?25l\u001b[?25hdone\n",
            "Building wheels for collected packages: fluidsynth\n",
            "  Building wheel for fluidsynth (setup.py) ... \u001b[?25l\u001b[?25hdone\n",
            "  Created wheel for fluidsynth: filename=fluidsynth-0.2-py3-none-any.whl size=4487 sha256=b9a32fb2ccf62773bfb6d46c314eda1051a8f87a30476a03196aa36cba2dac79\n",
            "  Stored in directory: /root/.cache/pip/wheels/72/5a/bf/347b142f199fb1bea87f16f8970916226951bc359c947ba19b\n",
            "Successfully built fluidsynth\n",
            "Installing collected packages: fluidsynth\n",
            "Successfully installed fluidsynth-0.2\n",
            "Collecting pretty_midi\n",
            "  Downloading pretty_midi-0.2.10.tar.gz (5.6 MB)\n",
            "\u001b[2K     \u001b[90m━━━━━━━━━━━━━━━━━━━━━━━━━━━━━━━━━━━━━━━━\u001b[0m \u001b[32m5.6/5.6 MB\u001b[0m \u001b[31m17.3 MB/s\u001b[0m eta \u001b[36m0:00:00\u001b[0m\n",
            "\u001b[?25h  Preparing metadata (setup.py) ... \u001b[?25l\u001b[?25hdone\n",
            "Requirement already satisfied: numpy>=1.7.0 in /usr/local/lib/python3.10/dist-packages (from pretty_midi) (1.25.2)\n",
            "Collecting mido>=1.1.16 (from pretty_midi)\n",
            "  Downloading mido-1.3.2-py3-none-any.whl (54 kB)\n",
            "\u001b[2K     \u001b[90m━━━━━━━━━━━━━━━━━━━━━━━━━━━━━━━━━━━━━━━━\u001b[0m \u001b[32m54.6/54.6 kB\u001b[0m \u001b[31m6.6 MB/s\u001b[0m eta \u001b[36m0:00:00\u001b[0m\n",
            "\u001b[?25hRequirement already satisfied: six in /usr/local/lib/python3.10/dist-packages (from pretty_midi) (1.16.0)\n",
            "Collecting packaging~=23.1 (from mido>=1.1.16->pretty_midi)\n",
            "  Downloading packaging-23.2-py3-none-any.whl (53 kB)\n",
            "\u001b[2K     \u001b[90m━━━━━━━━━━━━━━━━━━━━━━━━━━━━━━━━━━━━━━━━\u001b[0m \u001b[32m53.0/53.0 kB\u001b[0m \u001b[31m6.5 MB/s\u001b[0m eta \u001b[36m0:00:00\u001b[0m\n",
            "\u001b[?25hBuilding wheels for collected packages: pretty_midi\n",
            "  Building wheel for pretty_midi (setup.py) ... \u001b[?25l\u001b[?25hdone\n",
            "  Created wheel for pretty_midi: filename=pretty_midi-0.2.10-py3-none-any.whl size=5592289 sha256=3da83148810a122478f068e62368fe841889c84c84b1914dcc6445ca532b2cab\n",
            "  Stored in directory: /root/.cache/pip/wheels/cd/a5/30/7b8b7f58709f5150f67f98fde4b891ebf0be9ef07a8af49f25\n",
            "Successfully built pretty_midi\n",
            "Installing collected packages: packaging, mido, pretty_midi\n",
            "  Attempting uninstall: packaging\n",
            "    Found existing installation: packaging 24.0\n",
            "    Uninstalling packaging-24.0:\n",
            "      Successfully uninstalled packaging-24.0\n",
            "Successfully installed mido-1.3.2 packaging-23.2 pretty_midi-0.2.10\n"
          ]
        }
      ],
      "source": [
        "!pip install fluidsynth\n",
        "!pip install pretty_midi"
      ]
    },
    {
      "cell_type": "code",
      "execution_count": null,
      "metadata": {
        "id": "iouowEVuOgoV"
      },
      "outputs": [],
      "source": [
        "\n",
        "import collections\n",
        "import datetime\n",
        "import fluidsynth\n",
        "import glob\n",
        "import numpy as np\n",
        "import pathlib\n",
        "import pandas as pd\n",
        "import pretty_midi\n",
        "import seaborn as sns\n",
        "import tensorflow as tf\n",
        "from music21 import *\n",
        "\n",
        "\n",
        "from IPython import display\n",
        "from matplotlib import pyplot as plt\n",
        "from typing import Optional\n"
      ]
    },
    {
      "cell_type": "code",
      "execution_count": null,
      "metadata": {
        "colab": {
          "base_uri": "https://localhost:8080/"
        },
        "id": "A_3EaTcCbT6s",
        "outputId": "184bc024-9915-4b76-fa47-86fd57f5094d"
      },
      "outputs": [
        {
          "output_type": "stream",
          "name": "stdout",
          "text": [
            "TensorFlow version: 2.15.0\n"
          ]
        }
      ],
      "source": [
        "import tensorflow as tf\n",
        "\n",
        "print(\"TensorFlow version:\", tf.__version__)"
      ]
    },
    {
      "cell_type": "code",
      "execution_count": null,
      "metadata": {
        "colab": {
          "base_uri": "https://localhost:8080/"
        },
        "id": "au-X7M34Ts9W",
        "outputId": "61b44e47-dd96-4cf6-f84d-133e3a03cdec"
      },
      "outputs": [
        {
          "output_type": "stream",
          "name": "stdout",
          "text": [
            "Number of files:  352\n",
            "MIDI files:  ['e_c2e611ae16f98ee281046b2741d1e672.mid', '2_1721dff66da76e68c9b7761ccbaa1410.mid', 'a_3aac3d3986e23f8af8af926530e90d4d.mid', '9_3f99ce416bb49dc582b8b2072dfd5179.mid', '6_5b6cdd96b7d24d1a1ed2a6f948ba8972.mid', 'e_37e67f0ecca0200aa7806d28d3c70a32.mid', 'a_28aeff850c682777042fac426c90553e.mid', '5_86545d15b5b9dda20268c47d827f072d.mid', '2_552f4371253a9e1ed4280a9780eba019.mid', '9_5494da4478fdf10cbab71dadb242e848.mid', '3_03379a496e2535aae21ba8efa5aeaaf2.mid', 'e_0ce4f2f3ff05afb0219405b957d8e34f.mid', '5_035d29239b3e857640bd345a55fb410b.mid', '2_ed22b1d1013b663d56a2d4c324cec029.mid', '8_8286c4bf89710cf97bb726c9f7ff490c.mid', '6_756195487aff05595162fc53e726a7de.mid', 'f_92f15cc69e8619382b290f849c459912.mid', '3_9c3eec3cedfed70b46b69de99ee62d9a.mid', '7_f8773bacc7c0820dd5e26ed00df44a57.mid', 'e_fce968bf2e3b97f604a838cf608e7868.mid', '5_4158a402b9c4d6c422e3cb212d3a5ad6.mid', 'f_ddf876e56620f6e80008c09e8f3efa1e.mid', '0_300fe977445441d41e27ff098c9908ec.mid', '9_3393084ad9852a7eecc4ca05c1dc1520.mid', '7_d279a08dac8e2c14bf7c7468f9ad7d41.mid', '7_ce73f96af579032569125df00d8d67fb.mid', '8_e68e28757ec5fdd1d94ee1c92079c97e.mid', 'c_0eca0d2b027ed2124bab2fb4eb83cea6.mid', '3_6d3e549c5b53e6c66f6de0a9eb452a56.mid', 'f_80f878674506643f095d574187e48703.mid', '3_cf38780fbe3bce0ebfceedd2796749e3.mid', 'd_3ad531f240e7379e2869377d3b7c159f.mid', 'c_27cf200cb291e5de30117102e8a90eca.mid', 'd_58ddf8d2bdcbf7b1737667e894c7259e.mid', '8_a68b35f21b4abd8c590501d18b8bb32b.mid', 'c_69ce25025a3d9caeef02129794b74145.mid', 'c_cecae7484892402fb469cd25f161508a.mid', 'd_c7db6b875ee2a62881ec80f430f1a867.mid', 'c_bfcb97561a5393303b1170b8c0741b29.mid', 'd_32d39505eb008e8a023e4e691ff565a3.mid', 'f_27fe00032d424f800e548c1c99e8e416.mid', 'd_e6d74d71bec4b0c459f2c9af4b981f73.mid', '5_0c556ee64696c64484f99320eb25bda7.mid', '7_37710e5ca2a5768f1780a38b8dae7a14.mid', 'a_03a7c82d6c142e2038b7f83d881c9e86.mid', '5_f45b201a44bafdce0aabe3ef41c8ad51.mid', 'b_93b4b59a0b6f6fe645f91f87ebdc9bed.mid', '1_d21ed7d414536b3816503b169a5c3a12.mid', '3_683c9f950e7617e663466bca52430044.mid', '9_9495d3baddf643cbd86fd1f6449f648f.mid', 'e_0ce2bb5ff25331205858a4f60a4f858e.mid', '7_d87918d007ce0662194202fb6bbca837.mid', '1_901bc50f6e1a7b8e5f3e002a1fd9ce34.mid', 'd_d3d3a13d2c6c99cf231fea3699db3a2b.mid', '9_2297411481f14c569eed6efd4d1a29bc.mid', '6_846623c3475243d35e286bfc11ba44d5.mid', '9_ab972d4ee8a650b287c35fa3ae2a1827.mid', '2_4928473d661c28655cd561313f2ca2c1.mid', '8_ba87b1e6a2b885a0a40c8ed25284454a.mid', '6_4f66f0d45899c653d4ba9d6b490f3141.mid', 'b_37b6c768afb71aa8d9951b76447d77c2.mid', '7_e177cf6810edefc4cd9cd6cbe774c601.mid', '2_fd2e29bb8b90fd0d69ca644d48f0d26f.mid', 'e_7deb290efe11a75df30b9327325195c0.mid', '8_f78db38097c496f099bad7edf2bfc524.mid', '1_57170aa8168adde81c4b7689680131bd.mid', '9_aa997af21fbb63416536a67d04af8cea.mid', 'd_04d0724e4600896f7a6d17461e188f91.mid', '7_7370a86713569c96f55250f7cc9b6612.mid', '3_b03044b7f99c385f75bc6b88fb2a3c99.mid', '1_6f1b144a1d435b3328e650cf162deff7.mid', '3_cd35c4f5036db383b72ee8b67a383ed3.mid', 'c_2ccdb5edd9f7bd6310ebc58af913acc7.mid', 'c_85c259195df2f4daea5553334e43a749.mid', '2_ed2896abb3342ee002c6efc70af369b8.mid', '4_d44321624042ee2fec29e277beac67fa.mid', 'd_0ddf59c0ba0c913b70e01a80bfe85acd.mid', '9_0792748fa082eb1a0ce2e25e2bd77b39.mid', 'f_a6f6c25fefa9f005e09700e42e8a0adb.mid', '1_c91ca6da1c303631406727cfdaf2e5f8.mid', '2_c72064f44a1e843d3461102c02c8bf27.mid', '5_92596e18495ca4c87fb78d898e85eaaa.mid', '8_ee84468fdfece6b54fb3379e47d2a56f.mid', '4_da4641797f535caec1b2fbaf6ee66a74.mid', '2_ee2584e278a0af61afb181412d48c350.mid', 'e_74ec49c69641c230ce4f4879cb9c6b24.mid', 'c_b0c2691fd4af3ea1b58bcfe8195c0cf3.mid', '6_ca6e1f6d2899c3fed71e1d6c8d2ff1fe.mid', '4_a944e44cda8f4ecef56163a8964ee56c.mid', '1_1d10f9da12b8bbf76f739a3d6b87490d.mid', '2_7d2f88d9ee48dd28cfdbde43635678a5.mid', '8_25819707088fccbf3ee2b432598e3975.mid', '0_7c0d8f333db4bdb73a5cd682dd83b7b1.mid', '4_ec40ce077007a29cfea6cf04fb98ab39.mid', '4_004e45526a416fbe9f9648e5a8e4666e.mid', '2_1c2fc031b2f4ae414f7439168fb62ea0.mid', 'a_0ca00dc3425def171b6b11630bfca6f0.mid', 'd_f7d4c183ff1f02a6512d08ff1a38e03c.mid', 'c_13c9cf074d2b9fc391eea8988f313637.mid', 'f_8ff4e02aa67213033f64ea4b5e03e213.mid', '6_626604cd73b5be6a640e1f1e121ce472.mid', 'b_edb082fa0b1b4cbef3ff52c63a3a5bfb.mid', '2_0e28bb2c131d3d3dc47dd13f925cdda5.mid', 'd_f5df2aff541247a2dbd7c0bf22074365.mid', '3_0f30039c495d0cf7bfdcae8644a4ad50.mid', '8_1c8582595fc4197e6efe57c28dff4668.mid', '4_484eae15a7229cf406a4b85f7f05af3b.mid', 'a_e0abdcacc89adea93d243c20cb6c2caf.mid', 'a_9ca2d5729be16083040a5ed3f03ac972.mid', '4_7f47c03d75a71d35da0f96b81be07523.mid', 'c_69c2ea129b59e4620b907cc1e8e0635f.mid', '9_ec9519a38bef75a00e614aa880608315.mid', '2_a929f4171fa3677b35d3f8b497b177cb.mid', '5_9651c9aaa36fb7f9eed6e04b1798141d.mid', 'c_e4cbefd2897d1ba8e4b0190bd0b616d5.mid', 'a_6ca705649c0ec244ad0db00d3caab96b.mid', '1_bc1df20bde9b1a4713fdb2b87baa97db.mid', '7_3d7927f03b2ecd0e0f23cb56a4da8b64.mid', '0_1d0030ba03298fc6c5c4ae7174b5aebb.mid', '0_16098bf37137b4ed296a63fa1dade65a.mid', '6_d564e191fca957fd6798e47f4e3d3fc8.mid', '1_d918dc92641e639d9df381986ace79cf.mid', 'c_37c8659d2a453df55043464f26ff3c6d.mid', '9_3092094812dcfac7362f936bf0120680.mid', '8_fd8658d05b348194f99f5e96517fcf8f.mid', '1_9f1cee9c9469b6e94a877d001eb4cb56.mid', '9_a0948ca17f3f58261ea62626e571ae8d.mid', '8_0f84351e3acad14724f9c02f24a1f97e.mid', 'b_40b37d584cb9388c623d05634ce99959.mid', '8_0a8f878ec9fbd393156a5b0f95761df0.mid', 'b_5ebb664f78b9e14ed64ef62fb66e8aa8.mid', '4_1540c2969b5b58ab5a55ce422e5e34b3.mid', 'f_f4fd5bab41c79aff15b6808d7f56d4bf.mid', '7_8a7ed4cdbe39d9fcd1fb4c68f8d1cb85.mid', '9_8491c0384fef6e140121434cdbbdfa9a.mid', '1_5618d36ec3b952550c57c933fd04b10b.mid', '3_ca3a24b5024b85c15dcb782bd74d9577.mid', '2_1f285948ab9e1f39ee43f6af52cad002.mid', '5_b15f5d0e14dc3389bf290f3d830c04f8.mid', 'f_97f62a1135726c4ba5073e4615aecd8a.mid', '3_87338de99f2f4f4854ed4eca1eb9f544.mid', 'c_16c1adebab3e3913b2797602d86f3efe.mid', 'b_c9bd0ebef31e119f968e81e30f8f3057.mid', '1_511833df8b864f4f0d7ef8a3e52fb3cf.mid', 'c_a0c6934fbbdd6bdb905231fafdb62a34.mid', '7_607cecf5aa626e348843be96bc6d20f2.mid', 'e_7cecbec5bd4b2b541f3421313de182bd.mid', 'd_4ed393629e58ee62ef83b61b80bac496.mid', 'd_bdd68c83c4dbf68aba37c39a058728e2.mid', '1_cc1d9c4d09c55428494e6d1e5de76f9f.mid', '0_ba0860e04292ed2f8c0151f3416d2522.mid', '5_ea57a2404e0d4be7ce62f1bfdb471522.mid', 'f_3bfbc0238cbbb831dff0ed46903f2c6d.mid', '3_8c369b0f4b022f3c8f2ac3067b2b5afe.mid', 'd_20df5aae3e3fcc4e662d90a7bd915796.mid', '8_118075c1425f79fabe03ccd09e798b6d.mid', '6_b665f737887a11b83cdd441f948351f1.mid', 'f_61f29e58d0a69ffe277cf3036ef9d79b.mid', 'a_18a32036ef003b1e6f10b62a9449cc91.mid', 'b_57bbe8805eebf084a5cf934f4cb80094.mid', 'e_18ef02ab7e8019736270ba0e8bc06469.mid', 'c_81ca00b7c54f03bd9c53277aef5607b4.mid', 'a_f8a94bd8c0e99be3bfd6a97424f9f359.mid', 'f_d3f69a8a735b296f9324703d08999a0a.mid', '0_e20e278dc946aa485bd7d96062ceed8f.mid', '5_775613edc30e77348a3de0e998c17a60.mid', 'c_0fc396e08f6ddfae4f98bcbb701e3824.mid', '9_109cdc49fb9ebf54ccf5a3a0e2d943f2.mid', '0_c90f86fb6aef08f7ab7d9b6ab6df26f4.mid', '2_1b224f96a76de66b8e5f83a5a3f5a3f1.mid', '8_f485201901cc9974c8f28b0a3e41acae.mid', '1_9a146053e36539cfddbf454c5146d7b4.mid', '6_cc6871d23ea3448a21c3afc842d7a67a.mid', 'e_f1e02fa46fcd719d0ce5f178954efe09.mid', '9_3f9c484039662201b5be4b0db3ac2846.mid', 'd_42d6cd85e9cf382bc81602a703f4395b.mid', 'b_5cbaf260ed29492a54d292ea985fa94d.mid', '5_6e582d67e523c2bd331616a68208ba16.mid', '0_be0bd20b6ea80b2139117eb079b0b3d8.mid', 'd_81d9f79648e151876a740c1eb9d13db2.mid', 'c_40c6c20cffc82a10e5972c2e9789847a.mid', 'c_d6c666d715e3bb71efe4a3b8f3050496.mid', 'c_98c35b320e8f9c94c4c3c827e98b5912.mid', '0_410ae483a20a0f76ac81f40e25abdb2e.mid', '9_05971aedeed66e911cc1dfb06d08bc8b.mid', '0_b20f9bbf3c4c1da8ec8e365f1997ccab.mid', '7_fc7a1512f1777bbe1b8a29bd095f2c41.mid', '1_da11f3b5de4e886607c5606d8fea59e5.mid', '5_895bdc78b6cccae8d842cb0214399e6d.mid', '2_1e20c34311ce93cf6dd75beae1a64634.mid', 'a_5daaae31dcd7abc8efb95ab2a7753e8f.mid', 'e_bee012f07eca7c5c180b82b60d0de1d0.mid', '9_479ac191025ca1f31ce071ed056ff964.mid', '7_f776451268ea6a43f06e78aab14c4605.mid', 'e_1ae738d2c3414ca372999646c7c8e82a.mid', '1_2811ed5b65ad5c27af4b8b3ea22c1ab6.mid', '3_ba36f382f2b059b5f8efe5f6fc14a3dd.mid', '9_a49711948de5de5a9365c6ac4ee4791a.mid', '0_1c0c4392bdf2321dc4500ac73cbe75f0.mid', 'b_42b9697425dd5b1eeaafe96161c71644.mid', 'c_23c398cfe1b3afe24c9fd22222d84098.mid', '5_7d5446fb5404829d29b57497e509fe77.mid', 'c_f5cb40c579300136f833b69729d5ebcc.mid', 'a_06a3d768b2718f9065f32c19164d18d5.mid', 'e_2ae99da24d7c8092c24aa2c8ed307ea0.mid', 'b_8bb1425f6ef9a0c2bb7a1933685e9113.mid', 'a_3caa053bb710b97f9f2f3f32fef30816.mid', 'a_b7aa081462a02148569aff0865f38177.mid', 'd_d4dcf728e677074b22eab9f0b8ea2c67.mid', 'f_95f397e899df7a834535c3c1f3df391f.mid', '4_804afa75ef75860ec5b75cb11d4d0491.mid', 'c_cdc0950fe072f692ddd47276c11dd1bb.mid', '6_6d6c138c4f1855eb53fcbf9cb7f53df8.mid', '1_0615c277ab669e26d834f2595fb3f8e7.mid', '5_a25b1b5960b3c181d91510357768277d.mid', 'a_5ea3b653a9590bac2bb66587310e1db6.mid', 'e_cbe64874a2952e243b679e9f0f1f7b55.mid', '5_c95eb7053eb26d556ea8d05c41337a20.mid', '9_569c82e8e40c15186c3bffb5aaed2ff7.mid', '9_7e949dfdb0608083702faeaba9d7fd12.mid', '7_147b6cd175340f8adff26112f282e5ff.mid', 'f_01f0570bfec63201d64189f59b1f0732.mid', 'f_21fc3ab4cc2a70d93c22888f3db2a042.mid', 'c_7ccc6f88d547bd28954d10d5a65ae080.mid', '7_0f70a15b34acab0976a177d13bbee40f.mid', '4_cc473a152ff700029e75b940e2fc63ad.mid', 'd_9ddbbae804393aa0e8484b9bdc1a3602.mid', 'c_d8c39263fcf97c5dbf39f3a4e885f8cb.mid', '7_ab77783da72089595f1031e424240cd9.mid', 'd_ccd10c9234dbd4ed0fe06a85055de5d3.mid', 'c_cfc381f547032d16054624ac045855ed.mid', '3_f33818f54beed9fae0c6c4900a306c10.mid', '9_3c9e77bb0e2e9d47febe72ebae5aa4c2.mid', '7_ef7a06a71a857f975ed0ccc4a90b196c.mid', '2_2b2e89ba8b737e7f1a53e7a3a37c38b1.mid', '4_fd4ca0fee51b2648bbff81632a4758af.mid', '0_3d023dd60cf7ceb0ff7fdb136f5aae58.mid', '9_e39c974e4d9728973a7db7ec9f379e10.mid', 'e_ffe0d0ab67e842f7fc01119de021cf3a.mid', 'e_6ce4cd97854f195ad8ba1630d8ac817a.mid', '2_34276147eb2475cbbeddcb0c65e8d907.mid', '3_343a7ab0930fb41482d5b3dd41519576.mid', '6_c3610a94cfffb3f3ffe221eacd97ac8d.mid', '4_9749f578cd4c47af9c9e40a9126b737d.mid', '3_df3f3d845e8fd41608dd85ac0b2342f3.mid', '4_da4a8749216b2860430d3178c893b87d.mid', '4_db4e14fe870a3a4bb6953dbfdc63c6af.mid', '7_227747cb66b5f4cb37bfdce53aa316e6.mid', '4_6f4105648b2c96327f9bcc388d082acd.mid', '4_5749de619dcebf9fc42fe7a228e45f07.mid', '0_5b027792ead5a66ea51b7b03fa5abab4.mid', '8_558c7797679b4d360380ed078f1f199b.mid', 'd_e2d22b91b7c0ee80104fe3250484091c.mid', '5_2d51deafb53c8e70b93c139b2c518549.mid', '7_067ec17106195a327058023163cc39c3.mid', '5_fa5934260526449c5658cc5a6127ea29.mid', 'c_08cb96cbd6c36b543ad2b3646603196a.mid', 'd_e5d018a6137f08727bf09d4fa2907d09.mid', '5_9f581002a89f0ee51c9d43c5294d698b.mid', '2_e72a6a75cbd629b2d23835a388e0c298.mid', '4_f3428cf9d0901dc60496348e8b31be3e.mid', 'e_f1e4511e3f448d6b084750dbaf81a2f1.mid', 'a_faa04c8cf7b9d89757218200f0180ecd.mid', 'e_e5e4f5c2f9e4d42ad96910be63258bc9.mid', 'e_d6e0e2ec23f7d39d08aa1ee014977593.mid', 'f_2df4a006298161b738c29a755fe0ca21.mid', 'f_5afe82a4697f66ef3036cdc977134b3c.mid', 'e_b6e633e41adfd048e1c1b15ef993f7a3.mid', '2_0722d16b3d20999c9b168a571b55a51a.mid', '7_c07cbe9f640b886e411288d88d7df462.mid', 'a_b6a1a868713a9f6ab7cd8841c88978a7.mid', '8_698b0b941e66ddbf88a3870e000df9d1.mid', 'd_0bd8d2c90a2f73505b207741c0a8f6fe.mid', '0_37097cd3b93cea469fc0c3d92d8b1638.mid', '3_c13a230d51e4d60a05fdf0cc36b49bff.mid', 'd_5fd275dec79af0fb180e0210df663df5.mid', '9_599b8f8781432a855d652ee482f5df4d.mid', '0_2b0a51fcf038af66b136a7a143a7d158.mid', '1_1f1103b8abf85908a7e54df5eb7133b2.mid', '4_5647c1bde6de784ca5b16abd5a3791d9.mid', '9_3594154e3d8d7d63aab0484d61fcf53e.mid', '7_d97c202677cd4d5be11f46871a30abe9.mid', '3_6b3aab12d11183867b38d9e82f5dc489.mid', '4_514ee1338c450f2692a8a099b9aaa86a.mid', '9_269cbcd6cee67b60f19e686c2d4aa014.mid', '4_654d62ec77f1a813980def57c5872b77.mid', 'c_bcc63f8c05c0b28802dae916c175dafd.mid', '8_f185a1e2243f7a7b2ffbf038aef22cc3.mid', '8_65882d6ea5b8cf0ec53059d01026d4c4.mid', '6_9d6e07c3d620198d96ddfb6e641f7ae6.mid', 'f_b7f477638ecb8cb128f7c6cf21830a20.mid', '7_af7d73473684926f97bd02ad1ab6df3e.mid', '0_9f0ac5e1083ac59ceaf746ab9da3ed7d.mid', '1_32180f38cc5d6f5011d7896a5d152d4e.mid', '6_9d6b3577866c0a0523a41be956015a31.mid', 'f_99fef20595f959835591232f000cbdba.mid', '9_239270876e1a1e65fddd0976320c38c8.mid', '3_173e2b90fe1ae1e42057a1512770253c.mid', '0_b00aead2f879a904b5791c4d53d96312.mid', 'a_0cac06b73efe23b806e5bed5185cea24.mid', '6_196147314a4506a5bdf535fafde8e04c.mid', 'd_1ad1a0754c4a20395636d43b02bad83d.mid', 'a_77a9892f9045c96a38b894a9a169a18d.mid', 'd_90d48d88211f0bebc69e0535d6f0e691.mid', '1_cd161438c2008d2f17d81cec0621511a.mid', '0_380bdf33c24a36198ce32b39c4a26ddb.mid', 'f_40ffe3847434e533d32d36710386a727.mid', '9_c6963192ad00761eb2f83861db017859.mid', 'b_5ab48c6a15afb4190df577ebbb24076d.mid', '2_2220014f102c27b7467992639446b269.mid', 'c_a5c2f94acc8cf244c9b9f93bf7142baf.mid', '7_8b78d17dd44d1f2a3876c261ee8c13b8.mid', 'c_adcb2c478fba7cbcfaa4e304a9fe9719.mid', 'd_a1d1bf308853d5f755847bba90d7a806.mid', 'b_e6bc2a2d9eaae8ee94e5d57d559e192f.mid', '5_595fe2c67c9b81f9ab46bf1149df3dbb.mid', '7_0f79c48d6b684f175076fd347e08f4bb.mid', 'e_20e8199ac340d9feb406b1f9d8b62bc4.mid', 'b_9bb0a21ca8ed21bb08256dfe5b91595e.mid', 'f_d6f3f18b84f2b032c4215dcc05b01d2a.mid', '5_795b8b3e05be7146f69a4d24cd8a9c1b.mid', '1_ba1e520e5b77748b203c42fa2a160c26.mid', 'c_90cdd8f8b1fd1dafe2f440ae7512573b.mid', 'c_3ecb7aada6f8f1d2afe60a0d21c31201.mid', 'a_d1a4dd8031519912c298e96aa2aaee56.mid', 'b_83b2c1ae189df8515e56b921a44d601d.mid', 'b_37b8ccb28796e4fb9bc9eab231de2757.mid', '2_11282dd5d7c85bd84f3844dc71b67e5f.mid', '9_2491bacd3562af2b459ef73c15ad2084.mid', '5_d25df144badb00fb961a708ef35f6f22.mid', 'a_e9aa6d7aca9e6f08673545aeb3206602.mid', '3_3e36f1e925b551eee14d40c285e3691b.mid', '5_715352eaada7fc101e5b194d163121a6.mid', '2_82250910e2dd18d52c51fbd990a23b05.mid', '9_959982dd026f87776667ce5f8a045060.mid', 'b_b7bfc62ee0221be1e138a6117ee23599.mid', '7_e17d2c4b3f9af3430ebc4a3ca85b52ab.mid', 'c_b6c7b0d055efd7233861bdd853119414.mid', 'b_26bb694d10eca219983bae6ed4a555cc.mid', 'd_7bd855df50d75c9e4bfcf0a8e64c7559.mid', '4_2c4657a24a0cb1fa6531b294f60d372e.mid', 'b_5ab27cfbbabd801b9267553224f9dda4.mid', '2_aa230fdf55adad0151ab87901d57b216.mid', 'e_13e20d15ccf6fa2407d41cea5ce6cb25.mid', '3_96357e249e3d46b1802d471b883b920f.mid', '0_ea0fdcf7568ad7621c970429bcd266b0.mid', 'c_43cccc4622746ed46b24e3f5dd3add6e.mid', '8_488fa7672407877471d9f655b659783b.mid', '7_0d7d252cec8e29b23dd8487720f2712b.mid', '3_b93a0af23bbaedb62613d25844638f64.mid', 'a_a3ae7141772ee7f4d97311b17d2269cd.mid', '0_6c0bcf0c464fd5679d9128752dc10e80.mid']\n"
          ]
        }
      ],
      "source": [
        "import os\n",
        "\n",
        "# Define the MIDI folder path\n",
        "midi_folder = \"/content/drive/MyDrive/blues\"\n",
        "\n",
        "if os.path.exists(midi_folder):\n",
        "    all_files = os.listdir(midi_folder)\n",
        "    midi_files = [file for file in all_files if file.endswith(\".mid\")]\n",
        "\n",
        "    print('Number of files: ', len(all_files))\n",
        "    print('MIDI files: ', midi_files)\n",
        "else:\n",
        "    print(f\"The specified MIDI folder '{midi_folder}' does not exist.\")"
      ]
    },
    {
      "cell_type": "code",
      "execution_count": null,
      "metadata": {
        "colab": {
          "background_save": true
        },
        "id": "QC1EHt7XUKhW"
      },
      "outputs": [],
      "source": [
        "#CLASSICAL\n"
      ]
    },
    {
      "cell_type": "code",
      "execution_count": null,
      "metadata": {
        "id": "eOOl43-UUOIF"
      },
      "outputs": [],
      "source": [
        "def load_midi_file(file_path):\n",
        "    try:\n",
        "        pm = pretty_midi.PrettyMIDI(file_path)\n",
        "        return pm\n",
        "    except Exception as e:\n",
        "        print(f\"Error loading MIDI file: {e}\")\n",
        "        return None"
      ]
    },
    {
      "cell_type": "code",
      "execution_count": null,
      "metadata": {
        "id": "CzrfNSfCUQnc"
      },
      "outputs": [],
      "source": [
        "def display_midi_info(pm):\n",
        "    if pm is not None:\n",
        "        print('Number of instruments:', len(pm.instruments))\n",
        "        if pm.instruments:\n",
        "            instrument = pm.instruments[0]\n",
        "            instrument_name = pretty_midi.program_to_instrument_name(instrument.program)\n",
        "            print('Instrument name:', instrument_name)\n",
        "        else:\n",
        "            print('No instruments found in the MIDI file.')"
      ]
    },
    {
      "cell_type": "code",
      "execution_count": null,
      "metadata": {
        "id": "2ZEGwe1EdGFW"
      },
      "outputs": [],
      "source": [
        "def print_note_info(instrument):\n",
        "    if instrument is not None:\n",
        "        for i, note in enumerate(instrument.notes[:10]):\n",
        "            note_name = pretty_midi.note_number_to_name(note.pitch)\n",
        "            duration = note.end - note.start\n",
        "            print(f'{i}: pitch={note.pitch}, note_name={note_name}, duration={duration:.4f}')"
      ]
    },
    {
      "cell_type": "code",
      "execution_count": null,
      "metadata": {
        "colab": {
          "base_uri": "https://localhost:8080/"
        },
        "id": "U4ZsM0GedLZ8",
        "outputId": "8a1cb8a2-d657-4918-ae10-3a4f9368ba2b"
      },
      "outputs": [
        {
          "output_type": "stream",
          "name": "stdout",
          "text": [
            "Enter the index of the MIDI file you want to load: 45\n",
            "Successfully loaded PrettyMIDI object from a_03a7c82d6c142e2038b7f83d881c9e86.mid.\n",
            "Number of instruments: 16\n",
            "Instrument name: Flute\n",
            "\n",
            "Note information:\n",
            "0: pitch=81, note_name=A5, duration=0.6136\n",
            "1: pitch=88, note_name=E6, duration=0.3182\n",
            "2: pitch=89, note_name=F6, duration=0.3239\n",
            "3: pitch=88, note_name=E6, duration=1.8636\n",
            "4: pitch=74, note_name=D5, duration=0.4034\n",
            "5: pitch=81, note_name=A5, duration=0.7841\n",
            "6: pitch=82, note_name=A#5, duration=0.3636\n",
            "7: pitch=81, note_name=A5, duration=2.3693\n",
            "8: pitch=73, note_name=C#5, duration=0.0511\n",
            "9: pitch=74, note_name=D5, duration=0.3295\n"
          ]
        }
      ],
      "source": [
        "#print(\"Available MIDI files:\")\n",
        "#for i, file_name in enumerate(midi_files):\n",
        " #   print(f\"{i + 1}: {file_name}\")\n",
        "\n",
        "# User prompt to select midi\n",
        "try:\n",
        "    file_index = int(input(\"Enter the index of the MIDI file you want to load: \")) - 1\n",
        "    if 0 <= file_index < len(midi_files):\n",
        "        file_path = os.path.join(midi_folder, midi_files[file_index])\n",
        "        pm = load_midi_file(file_path)\n",
        "        print(f'Successfully loaded PrettyMIDI object from {midi_files[file_index]}.')\n",
        "\n",
        "        # Display MIDI file information\n",
        "        display_midi_info(pm)\n",
        "\n",
        "        # Print note information\n",
        "        if pm.instruments:\n",
        "            print(\"\\nNote information:\")\n",
        "            print_note_info(pm.instruments[0])  # Print notes from the first instrument\n",
        "    else:\n",
        "        print(\"Invalid index. Please enter a valid index.\")\n",
        "except ValueError:\n",
        "    print(\"Invalid input. Please enter a valid integer index.\")\n",
        "except Exception as e:\n",
        "    print(f\"An error occurred: {e}\")"
      ]
    },
    {
      "cell_type": "markdown",
      "metadata": {
        "id": "nc3uh8qPiyh-"
      },
      "source": [
        "# MIDI & Note processing"
      ]
    },
    {
      "cell_type": "code",
      "execution_count": null,
      "metadata": {
        "id": "4e_IHErpiCur"
      },
      "outputs": [],
      "source": [
        "def midi_to_notes(midi_file: str) -> pd.DataFrame:\n",
        "    try:\n",
        "      #  print(f\"Attempting to load MIDI file: {midi_file}\")\n",
        "        file_path = os.path.join(midi_folder, midi_file)  # use absolute here\n",
        "        pm = pretty_midi.PrettyMIDI(file_path)\n",
        "    except FileNotFoundError:\n",
        "        print(f\"FileNotFoundError: file does not exist: {midi_file}\")\n",
        "        return pd.DataFrame()  # Return an empty DataFrame\n",
        "\n",
        "    if len(pm.instruments) == 0:\n",
        "        print(f\"No instruments found in the MIDI file: {midi_file}\")\n",
        "        return pd.DataFrame()\n",
        "\n",
        "    instrument = pm.instruments[0]\n",
        "    notes = collections.defaultdict(list)\n",
        "\n",
        "    # Sort the notes by start time\n",
        "    sorted_notes = sorted(instrument.notes, key=lambda note: note.start)\n",
        "    prev_start = sorted_notes[0].start\n",
        "\n",
        "    for note in sorted_notes:\n",
        "        start = note.start\n",
        "        end = note.end\n",
        "        notes['pitch'].append(note.pitch)\n",
        "        notes['start'].append(start)\n",
        "        notes['end'].append(end)\n",
        "        notes['step'].append(start - prev_start)\n",
        "        notes['duration'].append(end - start)\n",
        "        prev_start = start\n",
        "\n",
        "    return pd.DataFrame({name: np.array(value) for name, value in notes.items()})"
      ]
    },
    {
      "cell_type": "code",
      "execution_count": null,
      "metadata": {
        "colab": {
          "background_save": true
        },
        "id": "rfMIDiURsLSu"
      },
      "outputs": [],
      "source": []
    },
    {
      "cell_type": "code",
      "execution_count": null,
      "metadata": {
        "id": "CZLdI484j3vh"
      },
      "outputs": [],
      "source": [
        "def plot_piano_roll(notes: pd.DataFrame, count: Optional[int] = None):\n",
        "  if count:\n",
        "    title = f'First {count} notes'\n",
        "  else:\n",
        "    title = f'Whole track'\n",
        "    count = len(notes['pitch'])\n",
        "  plt.figure(figsize=(20, 4))\n",
        "  plot_pitch = np.stack([notes['pitch'], notes['pitch']], axis=0)\n",
        "  plot_start_stop = np.stack([notes['start'], notes['end']], axis=0)\n",
        "  plt.plot(\n",
        "      plot_start_stop[:, :count], plot_pitch[:, :count], color=\"b\", marker=\".\")\n",
        "  plt.xlabel('Time [s]')\n",
        "  plt.ylabel('Pitch')\n",
        "  _ = plt.title(title)"
      ]
    },
    {
      "cell_type": "code",
      "execution_count": null,
      "metadata": {
        "id": "kinoqZvhc9Ai"
      },
      "outputs": [],
      "source": [
        "def plot_distributions(notes: pd.DataFrame, drop_percentile=2.5):\n",
        "  plt.figure(figsize=[15, 5])\n",
        "  plt.subplot(1, 3, 1)\n",
        "  sns.histplot(notes, x=\"pitch\", bins=20)\n",
        "\n",
        "  plt.subplot(1, 3, 2)\n",
        "  max_step = np.percentile(notes['step'], 100 - drop_percentile)\n",
        "  sns.histplot(notes, x=\"step\", bins=np.linspace(0, max_step, 21))\n",
        "\n",
        "  plt.subplot(1, 3, 3)\n",
        "  max_duration = np.percentile(notes['duration'], 100 - drop_percentile)\n",
        "  sns.histplot(notes, x=\"duration\", bins=np.linspace(0, max_duration, 21))"
      ]
    },
    {
      "cell_type": "code",
      "execution_count": null,
      "metadata": {
        "id": "OEWkLNAlkkl-"
      },
      "outputs": [],
      "source": [
        "def notes_to_midi(\n",
        "  notes: pd.DataFrame,\n",
        "  out_file: str,\n",
        "  instrument_name: str,\n",
        "  velocity: int = 100,  # note loudness\n",
        ") -> pretty_midi.PrettyMIDI:\n",
        "\n",
        "  pm = pretty_midi.PrettyMIDI()\n",
        "  instrument = pretty_midi.Instrument(\n",
        "      program=pretty_midi.instrument_name_to_program(\n",
        "          instrument_name))\n",
        "\n",
        "  prev_start = 0\n",
        "  for i, note in notes.iterrows():\n",
        "    start = float(prev_start + note['step'])\n",
        "    end = float(start + note['duration'])\n",
        "    note = pretty_midi.Note(\n",
        "        velocity=velocity,\n",
        "        pitch=int(note['pitch']),\n",
        "        start=start,\n",
        "        end=end,\n",
        "    )\n",
        "    instrument.notes.append(note)\n",
        "    prev_start = start\n",
        "\n",
        "  pm.instruments.append(instrument)\n",
        "  pm.write(out_file)\n",
        "  return pm"
      ]
    },
    {
      "cell_type": "markdown",
      "metadata": {
        "id": "e4jEpAZQkoWP"
      },
      "source": [
        "# Training"
      ]
    },
    {
      "cell_type": "code",
      "execution_count": null,
      "metadata": {
        "id": "bwdpINjKkrZ-",
        "colab": {
          "base_uri": "https://localhost:8080/"
        },
        "outputId": "6adadfef-b50d-47d6-c7a8-0b2bb26f0e68"
      },
      "outputs": [
        {
          "output_type": "stream",
          "name": "stdout",
          "text": [
            "Number of notes parsed: 302100\n"
          ]
        }
      ],
      "source": [
        "\n",
        "num_files = len(all_files)\n",
        "split_ratio = 0.6\n",
        "all_notes = []\n",
        "for f in all_files[:num_files]:\n",
        "  notes = midi_to_notes(f)\n",
        "  all_notes.append(notes)\n",
        "\n",
        "all_notes = pd.concat(all_notes)\n",
        "n_notes = len(all_notes)\n",
        "print('Number of notes parsed:', n_notes)"
      ]
    },
    {
      "cell_type": "code",
      "execution_count": null,
      "metadata": {
        "id": "ZInwIZOlPqgF"
      },
      "outputs": [],
      "source": [
        "import pickle\n",
        "with open('all_notes.pkl', 'wb') as f:\n",
        "    pickle.dump(all_notes, f)"
      ]
    },
    {
      "cell_type": "code",
      "execution_count": null,
      "metadata": {
        "id": "6qB5r1_PrNtW",
        "colab": {
          "base_uri": "https://localhost:8080/"
        },
        "outputId": "58e98c3c-3a68-4c4a-e7c3-d32c5fd34e7e"
      },
      "outputs": [
        {
          "output_type": "stream",
          "name": "stdout",
          "text": [
            "Statistical Summary of Note Attributes:\n",
            "               pitch       duration           step\n",
            "count  302100.000000  302100.000000  302100.000000\n",
            "mean       56.857646       0.308667       0.240296\n",
            "std        10.570280       0.386620       1.278166\n",
            "min         0.000000       0.001263       0.000000\n",
            "25%        50.000000       0.144231       0.000000\n",
            "50%        57.000000       0.229008       0.102740\n",
            "75%        64.000000       0.340909       0.258333\n",
            "max       108.000000      26.730673     291.388598\n"
          ]
        }
      ],
      "source": [
        "print(\"Statistical Summary of Note Attributes:\")\n",
        "print(all_notes[['pitch', 'duration', 'step']].describe())\n",
        "#print(all_notes['key'].value_counts())\n",
        "\n",
        "##\n",
        "first_5_midi_notes = all_notes.head(5)\n",
        "#print(first_5_midi_notes[['pitch', 'duration', 'step']].describe())"
      ]
    },
    {
      "cell_type": "code",
      "execution_count": null,
      "metadata": {
        "id": "_JHCMqQejBwT",
        "colab": {
          "base_uri": "https://localhost:8080/"
        },
        "outputId": "dad88fb1-ae59-4ec8-f34f-668a293359af"
      },
      "outputs": [
        {
          "output_type": "execute_result",
          "data": {
            "text/plain": [
              "TensorSpec(shape=(3,), dtype=tf.float64, name=None)"
            ]
          },
          "metadata": {},
          "execution_count": 16
        }
      ],
      "source": [
        "#Create dataset from parsed notes\n",
        "key_order = ['pitch', 'step', 'duration']\n",
        "train_notes = np.stack([all_notes[key] for key in key_order], axis=1)\n",
        "notes_ds = tf.data.Dataset.from_tensor_slices(train_notes)\n",
        "notes_ds.element_spec"
      ]
    },
    {
      "cell_type": "code",
      "execution_count": null,
      "metadata": {
        "id": "csNoHewi6Bxb",
        "colab": {
          "base_uri": "https://localhost:8080/"
        },
        "outputId": "22e70ac1-471d-4f79-e29e-520a3903e3a3"
      },
      "outputs": [
        {
          "output_type": "stream",
          "name": "stdout",
          "text": [
            "Length of train_notes after split: 181260\n",
            "Length of val_notes: 120840\n"
          ]
        }
      ],
      "source": [
        "#Split the dataset into training and validation\n",
        "from sklearn.model_selection import train_test_split\n",
        "\n",
        "train_notes, val_notes = train_test_split(train_notes, test_size=1-split_ratio, random_state=42)\n",
        "print(\"Length of train_notes after split:\", len(train_notes))\n",
        "print(\"Length of val_notes:\", len(val_notes))\n"
      ]
    },
    {
      "cell_type": "code",
      "execution_count": null,
      "metadata": {
        "id": "7uPAhxXuiii-",
        "colab": {
          "base_uri": "https://localhost:8080/"
        },
        "outputId": "661bf4cb-60a5-45c2-d484-ec3d625b8499"
      },
      "outputs": [
        {
          "output_type": "execute_result",
          "data": {
            "text/plain": [
              "(TensorSpec(shape=(50, 3), dtype=tf.float64, name=None),\n",
              " {'pitch': TensorSpec(shape=(), dtype=tf.float64, name=None),\n",
              "  'step': TensorSpec(shape=(), dtype=tf.float64, name=None),\n",
              "  'duration': TensorSpec(shape=(), dtype=tf.float64, name=None)})"
            ]
          },
          "metadata": {},
          "execution_count": 36
        }
      ],
      "source": [
        "\n",
        "def create_sequences(\n",
        "    dataset: tf.data.Dataset,\n",
        "    seq_length: int,\n",
        "    vocab_size = 128,\n",
        ") -> tf.data.Dataset:\n",
        "  \"\"\"Returns TF Dataset of sequence and label examples.\"\"\"\n",
        "  seq_length = seq_length+1\n",
        "\n",
        "  # Take 1 extra for the labels\n",
        "  windows = dataset.window(seq_length, shift=1, stride=1,\n",
        "                              drop_remainder=True)\n",
        "\n",
        "  # `flat_map` flattens the\" dataset of datasets\" into a dataset of tensors\n",
        "  flatten = lambda x: x.batch(seq_length, drop_remainder=True)\n",
        "  sequences = windows.flat_map(flatten)\n",
        "\n",
        "  # Normalize note pitch\n",
        "  def scale_pitch(x):\n",
        "    x = x/[vocab_size,1.0,1.0]\n",
        "    return x\n",
        "\n",
        "  # Split the labels\n",
        "  def split_labels(sequences):\n",
        "    inputs = sequences[:-1]\n",
        "    labels_dense = sequences[-1]\n",
        "    labels = {key:labels_dense[i] for i,key in enumerate(key_order)}\n",
        "\n",
        "    return scale_pitch(inputs), labels\n",
        "\n",
        "  return sequences.map(split_labels, num_parallel_calls=tf.data.AUTOTUNE)\n",
        "###\n",
        "seq_length = 50\n",
        "vocab_size = 128\n",
        "seq_ds = create_sequences(notes_ds, seq_length, vocab_size)\n",
        "seq_ds.element_spec"
      ]
    },
    {
      "cell_type": "code",
      "execution_count": null,
      "metadata": {
        "id": "BRwimj-f7J1m"
      },
      "outputs": [],
      "source": [
        "# Datasets for training and validation\n",
        "train_ds = tf.data.Dataset.from_tensor_slices(train_notes)\n",
        "val_ds = tf.data.Dataset.from_tensor_slices(val_notes)\n",
        "\n",
        "# Sequences for training and validation\n",
        "seq_ds_train = create_sequences(train_ds, seq_length, vocab_size)\n",
        "seq_ds_val = create_sequences(val_ds, seq_length, vocab_size)"
      ]
    },
    {
      "cell_type": "code",
      "execution_count": null,
      "metadata": {
        "id": "w-TVKnxvn6H_",
        "colab": {
          "base_uri": "https://localhost:8080/"
        },
        "outputId": "8ee5f345-ae8f-4e1f-b146-b47917b38aed"
      },
      "outputs": [
        {
          "output_type": "execute_result",
          "data": {
            "text/plain": [
              "(TensorSpec(shape=(48, 50, 3), dtype=tf.float64, name=None),\n",
              " {'pitch': TensorSpec(shape=(48,), dtype=tf.float64, name=None),\n",
              "  'step': TensorSpec(shape=(48,), dtype=tf.float64, name=None),\n",
              "  'duration': TensorSpec(shape=(48,), dtype=tf.float64, name=None)})"
            ]
          },
          "metadata": {},
          "execution_count": 38
        }
      ],
      "source": [
        "batch_size = 48\n",
        "buffer_size_train = len(train_notes) - seq_length\n",
        "buffer_size_val = len(val_notes) - seq_length  # the number of items in the dataset\n",
        "\n",
        "train_ds = (seq_ds_train\n",
        "            .shuffle(buffer_size_train)\n",
        "            .batch(batch_size, drop_remainder=True)\n",
        "            .cache()\n",
        "            .prefetch(tf.data.experimental.AUTOTUNE))\n",
        "val_ds = (seq_ds_val\n",
        "          .batch(batch_size, drop_remainder=True)\n",
        "          .cache()\n",
        "          .prefetch(tf.data.experimental.AUTOTUNE))\n",
        "#train_ds.element_spec\n",
        "val_ds.element_spec\n",
        "#"
      ]
    },
    {
      "cell_type": "markdown",
      "metadata": {
        "id": "cgin3efbokmb"
      },
      "source": [
        "# MODEL"
      ]
    },
    {
      "cell_type": "code",
      "execution_count": null,
      "metadata": {
        "id": "DkkEiusoqz3m"
      },
      "outputs": [],
      "source": [
        "def mse_with_positive_pressure(y_true: tf.Tensor, y_pred: tf.Tensor):\n",
        "  mse = (y_true - y_pred) ** 2\n",
        "  positive_pressure = 10 * tf.maximum(-y_pred, 0.0)\n",
        "  return tf.reduce_mean(mse + positive_pressure)"
      ]
    },
    {
      "cell_type": "code",
      "execution_count": null,
      "metadata": {
        "id": "Do-pRfwpt4W6",
        "colab": {
          "base_uri": "https://localhost:8080/"
        },
        "outputId": "17fe1319-5f95-48e5-e5ab-dcbf5897508a"
      },
      "outputs": [
        {
          "output_type": "stream",
          "name": "stdout",
          "text": [
            "Model: \"model_1\"\n",
            "__________________________________________________________________________________________________\n",
            " Layer (type)                Output Shape                 Param #   Connected to                  \n",
            "==================================================================================================\n",
            " input_2 (InputLayer)        [(None, 50, 3)]              0         []                            \n",
            "                                                                                                  \n",
            " lstm_1 (LSTM)               (None, 128)                  67584     ['input_2[0][0]']             \n",
            "                                                                                                  \n",
            " dropout_1 (Dropout)         (None, 128)                  0         ['lstm_1[0][0]']              \n",
            "                                                                                                  \n",
            " duration (Dense)            (None, 1)                    129       ['dropout_1[0][0]']           \n",
            "                                                                                                  \n",
            " pitch (Dense)               (None, 128)                  16512     ['dropout_1[0][0]']           \n",
            "                                                                                                  \n",
            " step (Dense)                (None, 1)                    129       ['dropout_1[0][0]']           \n",
            "                                                                                                  \n",
            "==================================================================================================\n",
            "Total params: 84354 (329.51 KB)\n",
            "Trainable params: 84354 (329.51 KB)\n",
            "Non-trainable params: 0 (0.00 Byte)\n",
            "__________________________________________________________________________________________________\n"
          ]
        }
      ],
      "source": [
        "#Initialise model architecture   BLUESS\n",
        "input_shape = (seq_length, 3)\n",
        "learning_rate = 0.0001\n",
        "\n",
        "#model layers and stuff\n",
        "inputs = tf.keras.Input(input_shape)\n",
        "x = tf.keras.layers.LSTM(128)(inputs)\n",
        "x = tf.keras.layers.Dropout(0.7)(x)\n",
        "\n",
        "outputs = {\n",
        "  'pitch': tf.keras.layers.Dense(128, name='pitch')(x),\n",
        "  'step': tf.keras.layers.Dense(1, name='step')(x),\n",
        "  'duration': tf.keras.layers.Dense(1, name='duration')(x),\n",
        "}\n",
        "\n",
        "model = tf.keras.Model(inputs, outputs)\n",
        "\n",
        "loss = {\n",
        "      'pitch': tf.keras.losses.SparseCategoricalCrossentropy(\n",
        "          from_logits=True),\n",
        "      'step': mse_with_positive_pressure,\n",
        "      'duration': mse_with_positive_pressure,\n",
        "}\n",
        "\n",
        "optimizer = tf.keras.optimizers.Adam(learning_rate=learning_rate)\n",
        "\n",
        "model.compile(loss=loss,\n",
        "              loss_weights={\n",
        "                  'pitch': 0.05,\n",
        "                  'step': 1,\n",
        "                  'duration': 1,\n",
        "              },\n",
        "              optimizer=optimizer,\n",
        "              metrics={\n",
        "                  'pitch': 'sparse_categorical_accuracy',\n",
        "                  'step': 'mae',\n",
        "                  'duration': 'mae'\n",
        "              })\n",
        "\n",
        "model.summary()"
      ]
    },
    {
      "cell_type": "code",
      "source": [
        "!pip install pydot\n",
        "!pip install graphviz"
      ],
      "metadata": {
        "colab": {
          "base_uri": "https://localhost:8080/"
        },
        "id": "kEiME5MkuRlh",
        "outputId": "0e00b233-1712-409b-ea60-f479ee3c8150"
      },
      "execution_count": null,
      "outputs": [
        {
          "output_type": "stream",
          "name": "stdout",
          "text": [
            "Requirement already satisfied: pydot in /usr/local/lib/python3.10/dist-packages (1.4.2)\n",
            "Requirement already satisfied: pyparsing>=2.1.4 in /usr/local/lib/python3.10/dist-packages (from pydot) (3.1.2)\n",
            "Requirement already satisfied: graphviz in /usr/local/lib/python3.10/dist-packages (0.20.3)\n"
          ]
        }
      ]
    },
    {
      "cell_type": "code",
      "source": [
        "from IPython.display import Image\n",
        "\n",
        "# Plot the model architecture\n",
        "plot_model(model, show_shapes=True, show_layer_names=True)"
      ],
      "metadata": {
        "colab": {
          "base_uri": "https://localhost:8080/",
          "height": 422
        },
        "id": "b-8Bn5Vmj5ib",
        "outputId": "c794fcc0-455b-4e57-9bea-d6b4b7bb1617"
      },
      "execution_count": null,
      "outputs": [
        {
          "output_type": "execute_result",
          "data": {
            "image/png": "[encoded data removed]",
            "text/plain": [
              "<IPython.core.display.Image object>"
            ]
          },
          "metadata": {},
          "execution_count": 41
        }
      ]
    },
    {
      "cell_type": "code",
      "execution_count": null,
      "metadata": {
        "id": "1eJJNzmVYzSJ"
      },
      "outputs": [],
      "source": [
        "#train\n",
        "callbacks = [\n",
        "    tf.keras.callbacks.ModelCheckpoint(\n",
        "        filepath=f'./model_checkpointBLUES.h5',\n",
        "        save_weights_only=True,\n",
        "        save_freq = 'epoch'\n",
        "    ),\n",
        "    tf.keras.callbacks.EarlyStopping(\n",
        "        monitor='loss',\n",
        "        patience=5,\n",
        "        verbose=1,\n",
        "        restore_best_weights=True),\n",
        "]\n",
        "epochs = 40\n",
        "#val_data = (val_ds.map(lambda x, y: x), val_ds.map(lambda x, y: y))\n",
        "history = model.fit(\n",
        "    train_ds,\n",
        "    epochs=epochs,\n",
        "    validation_data=val_ds,\n",
        "    callbacks=callbacks,\n",
        ")\n",
        "\n",
        "model.save('./model_weightblues.h5')"
      ]
    },
    {
      "cell_type": "code",
      "execution_count": null,
      "metadata": {
        "id": "wHAaKmGPjnOE"
      },
      "outputs": [],
      "source": [
        "plt.plot(history.epoch, history.history['loss'], label='total loss')\n",
        "plt.xlabel('Epochs')\n",
        "plt.ylabel('Loss')\n",
        "plt.title('Training loss L.E: 0.00001 512')\n",
        "plt.show()\n",
        "#"
      ]
    },
    {
      "cell_type": "code",
      "execution_count": null,
      "metadata": {
        "id": "iyvnufWbCEZE"
      },
      "outputs": [],
      "source": [
        "#For inputs\n",
        "plt.plot(history.epoch, history.history['duration_loss'], label='Training Loss (Duration)')\n",
        "plt.plot(history.epoch, history.history['step_loss'], label='Training Loss (Step)')\n",
        "plt.plot(history.epoch, history.history['pitch_loss'], label='Training Loss (Pitch)')\n",
        "\n",
        "plt.xlabel('Epochs')\n",
        "plt.ylabel('Loss')\n",
        "plt.title('Loss for Duration, Step, and Pitch')\n",
        "plt.legend()\n",
        "plt.show()"
      ]
    },
    {
      "cell_type": "code",
      "execution_count": null,
      "metadata": {
        "id": "oRfdd7J5y3vL"
      },
      "outputs": [],
      "source": [
        "plt.plot(history.epoch, history.history['duration_loss'], label='Training Loss (Duration)')\n",
        "\n",
        "\n",
        "plt.xlabel('Epochs')\n",
        "plt.ylabel('Loss')\n",
        "plt.title('Loss for Duration')\n",
        "plt.legend()\n",
        "plt.show()"
      ]
    },
    {
      "cell_type": "code",
      "execution_count": null,
      "metadata": {
        "id": "3-Zr0v6izAxE"
      },
      "outputs": [],
      "source": [
        "\n",
        "plt.plot(history.epoch, history.history['step_loss'], label='Training Loss (Step)')\n",
        "\n",
        "\n",
        "plt.xlabel('Epochs')\n",
        "plt.ylabel('Loss')\n",
        "plt.title('Loss for step')\n",
        "plt.show()"
      ]
    },
    {
      "cell_type": "code",
      "execution_count": null,
      "metadata": {
        "id": "XgNhbrBhO-MA"
      },
      "outputs": [],
      "source": [
        "val_loss = history.history['val_loss']\n",
        "\n",
        "# Plot the validation loss\n",
        "plt.plot(val_loss)\n",
        "plt.xlabel('Epoch')\n",
        "plt.ylabel('Validation Loss')\n",
        "plt.title('Validation Loss 512')\n",
        "plt.show()"
      ]
    },
    {
      "cell_type": "code",
      "execution_count": null,
      "metadata": {
        "id": "VhEeXevERhk3"
      },
      "outputs": [],
      "source": [
        "val_loss = history.history['val_pitch_loss']\n",
        "\n",
        "# Plot the validation loss\n",
        "plt.plot(val_loss)\n",
        "plt.xlabel('Epoch')\n",
        "plt.ylabel('Validation Pitch Loss')\n",
        "plt.title('Validation Pitch Loss L.E: 0.00001')\n",
        "plt.show()"
      ]
    },
    {
      "cell_type": "code",
      "execution_count": null,
      "metadata": {
        "id": "MPpRHKFV78Yz"
      },
      "outputs": [],
      "source": [
        "\n",
        "train_loss = history.history['loss']\n",
        "val_loss = history.history['val_loss']\n",
        "plt.plot(train_loss, label='Training Loss')\n",
        "plt.plot(val_loss, label='Validation Loss')\n",
        "plt.xlabel('Epoch')\n",
        "plt.ylabel('Loss')\n",
        "plt.title('Training and Validation Loss 0.0001')\n",
        "plt.legend()\n",
        "plt.show()"
      ]
    },
    {
      "cell_type": "code",
      "execution_count": null,
      "metadata": {
        "id": "LekxrVR6BfeT"
      },
      "outputs": [],
      "source": [
        "train_pitch_accuracy = history.history['pitch_sparse_categorical_accuracy']\n",
        "train_step_accuracy = history.history['step_mae']\n",
        "train_duration_accuracy = history.history['duration_mae']\n",
        "val_pitch_accuracy = history.history['val_pitch_sparse_categorical_accuracy']\n",
        "val_step_accuracy = history.history['val_step_mae']\n",
        "val_duration_accuracy = history.history['val_duration_mae']"
      ]
    },
    {
      "cell_type": "code",
      "execution_count": null,
      "metadata": {
        "id": "Mw6X-DZ-Bnab"
      },
      "outputs": [],
      "source": [
        "plt.plot(train_pitch_accuracy, label='Training Pitch Accuracy')\n",
        "plt.plot(val_pitch_accuracy, label='Validation Pitch Accuracy')\n",
        "plt.title('Training and Validation Accuracy L.E: 0.001')\n",
        "plt.xlabel('Epoch')\n",
        "plt.ylabel('Accuracy')\n",
        "plt.legend()\n",
        "plt.show()"
      ]
    },
    {
      "cell_type": "code",
      "execution_count": null,
      "metadata": {
        "id": "Oi8LXFLucG7_"
      },
      "outputs": [],
      "source": [
        "plt.plot(train_duration_accuracy, label='Training Duration Accuracy')\n",
        "plt.plot(val_duration_accuracy, label='Validation Duration Accuracy')\n",
        "plt.title('Training and Validation Accuracy (duration) L.E: 0.001')\n",
        "plt.xlabel('Epoch')\n",
        "plt.ylabel('Accuracy')\n",
        "plt.legend()\n",
        "plt.show()"
      ]
    },
    {
      "cell_type": "code",
      "execution_count": null,
      "metadata": {
        "id": "vRmNR_nOCiLd"
      },
      "outputs": [],
      "source": [
        "print(history.history.keys())"
      ]
    },
    {
      "cell_type": "markdown",
      "metadata": {
        "id": "QpchUDcykLSy"
      },
      "source": [
        "# Generation\n"
      ]
    },
    {
      "cell_type": "code",
      "execution_count": null,
      "metadata": {
        "id": "C3MgboYoQHlK"
      },
      "outputs": [],
      "source": [
        "import random\n",
        "def blues_scale(pitch):\n",
        "    \"\"\"Adjusts generated pitch to fit the minor blues scale\"\"\"\n",
        "    # Fixed pitches based on theory (1, 3b, 4, 5b, 5, 7b)\n",
        "    # Hard code?\n",
        "    blues_scale_pitches = [52, 55, 57, 58, 59, 62]\n",
        "\n",
        "    # Check if the pitch is in the blues scale\n",
        "    if pitch in blues_scale_pitches:\n",
        "        return pitch\n",
        "    else:\n",
        "        # Find the nearest pitch in the blues scale\n",
        "        diff = [abs(pitch - p) for p in blues_scale_pitches]\n",
        "        nearest_pitch_index = diff.index(min(diff))\n",
        "        # Randomise for another index\n",
        "        random_index = random.choice([-1, 1])\n",
        "        new_index = nearest_pitch_index + random_index\n",
        "        # Constraint for boumnds\n",
        "        if new_index < 0:\n",
        "            new_index = 0\n",
        "        elif new_index >= len(blues_scale_pitches):\n",
        "            new_index = len(blues_scale_pitches) - 1\n",
        "\n",
        "        return blues_scale_pitches[new_index]"
      ]
    },
    {
      "cell_type": "code",
      "execution_count": null,
      "metadata": {
        "id": "YASNp1pdkP7B"
      },
      "outputs": [],
      "source": [
        "def predict_next_note(notes: np.ndarray, model: tf.keras.Model, temperature: float = 1.0) -> tuple[int, float, float]:\n",
        "    \"\"\"Generates a note as a tuple of (pitch, step, duration), using a trained sequence model.\"\"\"\n",
        "    assert temperature > 0\n",
        "\n",
        "    # Add batch dimension\n",
        "    inputs = tf.expand_dims(notes, 0)\n",
        "\n",
        "    predictions = model.predict(inputs)\n",
        "    pitch_logits = predictions['pitch']\n",
        "    step = predictions['step']\n",
        "    duration = predictions['duration']\n",
        "\n",
        "    pitch_logits /= temperature\n",
        "    pitch = tf.random.categorical(pitch_logits, num_samples=1)\n",
        "    pitch = tf.squeeze(pitch, axis=-1)\n",
        "    duration = tf.squeeze(duration, axis=-1)\n",
        "    step = tf.squeeze(step, axis=-1)\n",
        "\n",
        "    # `step` and `duration` values should be non-negative\n",
        "    step = tf.maximum(0, step)\n",
        "    duration = tf.maximum(0, duration)\n",
        "\n",
        "    # Blues scale\n",
        "    pitch = blues_scale(int(pitch))\n",
        "\n",
        "    # Constrain to an octave (use 60 as = middle C)\n",
        "    pitch = tf.clip_by_value(pitch, 52, 62)\n",
        "\n",
        "    # Iterate over the predictions\n",
        "    print(f\"Generated Note: Pitch={pitch}, Step={step}, Duration={duration}\")\n",
        "\n",
        "    return int(pitch), float(step), float(duration)"
      ]
    },
    {
      "cell_type": "code",
      "execution_count": null,
      "metadata": {
        "id": "_o_lwS-Si3Iv"
      },
      "outputs": [],
      "source": []
    },
    {
      "cell_type": "code",
      "execution_count": null,
      "metadata": {
        "id": "NeBmVyjokboh"
      },
      "outputs": [],
      "source": [
        "temperature = 1.2\n",
        "num_predictions = 16\n",
        "\n",
        "sample_notes = np.stack([all_notes[key] for key in key_order], axis=1)\n",
        "\n",
        "# The initial sequence of notes; pitch is normalized similar to training\n",
        "# sequences\n",
        "input_notes = (\n",
        "    sample_notes[:seq_length] / np.array([vocab_size, 1, 1]))\n",
        "\n",
        "generated_notes = []\n",
        "prev_start = 0\n",
        "for _ in range(num_predictions):\n",
        "  pitch, step, duration = predict_next_note(input_notes, model, temperature)\n",
        "  start = prev_start + step\n",
        "  end = start + duration\n",
        "  input_note = (pitch, step, duration)\n",
        "  generated_notes.append((*input_note, start, end))\n",
        "  input_notes = np.delete(input_notes, 0, axis=0)\n",
        "  input_notes = np.append(input_notes, np.expand_dims(input_note, 0), axis=0)\n",
        "  prev_start = start\n",
        "\n",
        "generated_notes = pd.DataFrame(\n",
        "    generated_notes, columns=(*key_order, 'start', 'end'))\n",
        "\n",
        "pitch_counts = generated_notes['pitch'].value_counts()\n",
        "\n",
        "print(\"Pitch Counts:\")\n",
        "print(pitch_counts)"
      ]
    },
    {
      "cell_type": "code",
      "execution_count": null,
      "metadata": {
        "id": "pF6j-6iwkf7g"
      },
      "outputs": [],
      "source": [
        "out_file = 'cclassictweak.mid'\n",
        "instrument = pm.instruments[0]\n",
        "instrument_name = pretty_midi.program_to_instrument_name(instrument.program)\n",
        "out_pm = notes_to_midi(\n",
        "    generated_notes, out_file=out_file, instrument_name=instrument_name)"
      ]
    },
    {
      "cell_type": "code",
      "execution_count": null,
      "metadata": {
        "id": "Eg5uVapPlwSu"
      },
      "outputs": [],
      "source": [
        "from google.colab import files\n",
        "files.download(out_file)"
      ]
    },
    {
      "cell_type": "markdown",
      "metadata": {
        "id": "orASF4kuJvfp"
      },
      "source": [
        "# Analysis"
      ]
    },
    {
      "cell_type": "code",
      "execution_count": null,
      "metadata": {
        "id": "wCkNKkBEctPh"
      },
      "outputs": [],
      "source": [
        "plot_piano_roll(generated_notes)"
      ]
    },
    {
      "cell_type": "code",
      "execution_count": null,
      "metadata": {
        "id": "hwk8mnzwctzT"
      },
      "outputs": [],
      "source": [
        "plot_distributions(generated_notes)"
      ]
    },
    {
      "cell_type": "code",
      "execution_count": null,
      "metadata": {
        "id": "eFB6ouIUNdhJ"
      },
      "outputs": [],
      "source": []
    },
    {
      "cell_type": "code",
      "execution_count": null,
      "metadata": {
        "id": "mVih2aA_J_vx"
      },
      "outputs": [],
      "source": [
        "learning_rates = [0.001, 0.0001, 0.00001]\n",
        "\n",
        "lr_min = 1e-10\n",
        "lr_max = 1e+1\n",
        "loss_fn = tf.keras.losses.MeanSquaredError()\n",
        "model.compile(loss=loss_fn, optimizer=optimizer)\n",
        "\n",
        "train_dataset = train_ds\n",
        "n_epoch = 10\n",
        "\n",
        "# learning rate schedule callback\n",
        "def lr_schedule(epoch):\n",
        "    return float(10 ** (-9 + epoch))\n",
        "\n",
        "lr_callback = tf.keras.callbacks.LearningRateScheduler(lr_schedule)\n",
        "\n",
        "history = model.fit(train_dataset, epochs=n_epoch, callbacks=[lr_callback])\n",
        "\n",
        "# Smooth the loslosses = history.history['loss']\n",
        "lr_values = [10 ** (-9 - 2 * epoch / (n_epoch - 1)) for epoch in range(n_epoch)]\n"
      ]
    },
    {
      "cell_type": "code",
      "execution_count": null,
      "metadata": {
        "id": "biO5Mn-AYliQ"
      },
      "outputs": [],
      "source": [
        "learning_rates = history.history['lr']\n",
        "losses = history.history['loss']\n",
        "plt.plot(learning_rates, losses)\n",
        "plt.xlabel('Learning Rate')\n",
        "plt.ylabel('Loss')\n",
        "plt.title('Learning Rate vs. Loss')\n",
        "plt.xscale('log')\n",
        "plt.show()"
      ]
    },
    {
      "cell_type": "code",
      "execution_count": null,
      "metadata": {
        "id": "PslLoGLH2PXM"
      },
      "outputs": [],
      "source": [
        "import h5py\n",
        "model_file_path = '/content/drive/MyDrive/models/model_weightsBLUEStweaked.h5'\n",
        "with h5py.File(model_file_path, 'r') as f:\n",
        "    print(\"Root keys:\", list(f.keys()))"
      ]
    },
    {
      "cell_type": "code",
      "execution_count": null,
      "metadata": {
        "id": "6t6GnHvW4jct"
      },
      "outputs": [],
      "source": [
        "from tensorflow.keras.models import Model\n",
        "from tensorflow.keras.models import load_model\n",
        "from tensorflow.keras.models import Sequential\n",
        "from tensorflow.keras.layers import Dense\n",
        "\n",
        "# savedModel=load_model('/content/drive/MyDrive/models/model_weightsBLUEStweaked.h5')\n",
        "# savedModel.summary()"
      ]
    },
    {
      "cell_type": "markdown",
      "metadata": {
        "id": "q02lvTvHsDOD"
      },
      "source": [
        "# Website Logic"
      ]
    }
  ],
  "metadata": {
    "accelerator": "GPU",
    "colab": {
      "gpuType": "T4",
      "machine_shape": "hm",
      "provenance": [],
      "toc_visible": true,
      "mount_file_id": "1RiFLp3GkOQjeHgasW8rdl59s2C9x7n4i",
      "authorship_tag": "ABX9TyN0pOQJNwdP/L/6hUtgyimj",
      "include_colab_link": true
    },
    "kernelspec": {
      "display_name": "Python 3",
      "name": "python3"
    },
    "language_info": {
      "name": "python"
    }
  },
  "nbformat": 4,
  "nbformat_minor": 0
}